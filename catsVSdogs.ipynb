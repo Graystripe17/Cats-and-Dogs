{
  "cells": [
    {
      "metadata": {
        "_uuid": "8f2839f25d086af736a60e9eeb907d3b93b6e0e5",
        "_cell_guid": "b1076dfc-b9ad-4769-8c92-a6c4dae69d19",
        "trusted": true,
        "collapsed": true
      },
      "cell_type": "code",
      "source": "# This Python 3 environment comes with many helpful analytics libraries installed\n# It is defined by the kaggle/python docker image: https://github.com/kaggle/docker-python\n# For example, here's several helpful packages to load in \n\nimport numpy as np # linear algebra\nimport pandas as pd # data processing, CSV file I/O (e.g. pd.read_csv)\n\n# Input data files are available in the \"../input/\" directory.\n# For example, running this (by clicking run or pressing Shift+Enter) will list the files in the input directory\n\nimport os\nprint(os.listdir(\"/kaggle/input\"))\n\n# Any results you write to the current directory are saved as output.",
      "execution_count": null,
      "outputs": []
    },
    {
      "metadata": {
        "_cell_guid": "79c7e3d0-c299-4dcb-8224-4455121ee9b0",
        "_uuid": "d629ff2d2480ee46fbb7e2d37f6b5fab8052498a",
        "trusted": true,
        "scrolled": true,
        "collapsed": true
      },
      "cell_type": "code",
      "source": "import cv2, re, random\nimport keras\nfrom sklearn.model_selection import train_test_split\nfrom keras.preprocessing.image import img_to_array, load_img\nfrom keras.preprocessing.image import ImageDataGenerator\nfrom keras import layers, models, optimizers\n",
      "execution_count": null,
      "outputs": []
    },
    {
      "metadata": {
        "trusted": true,
        "_uuid": "c76df29ae1a732c08e6c84363bc93bd85ee924a2",
        "collapsed": true
      },
      "cell_type": "code",
      "source": "img_width, img_height = 150, 150\nTRAIN_DIR = '/kaggle/input/train/'\nTEST_DIR = '/kaggle/input/test/'\ntrain_images_dogs_cats = [TRAIN_DIR+i for i in os.listdir(TRAIN_DIR)]\ntest_images_dogs_cats = [TEST_DIR+i for i in os.listdir(TEST_DIR)]",
      "execution_count": null,
      "outputs": []
    },
    {
      "metadata": {
        "trusted": true,
        "_uuid": "256812d74595b1b88e2fa1906e84d35b3f694268",
        "collapsed": true
      },
      "cell_type": "code",
      "source": "def atoi(text):\n    return int(text) if text.isdigit() else text\n\ndef natural_keys(text):\n    return [ atoi(c) for c in re.split('(\\d+)', text)]\n\ndef contains_cat(text):\n    return 'cat' in text\n\ndef contains_dog(text):\n    return 'dog' in text",
      "execution_count": null,
      "outputs": []
    },
    {
      "metadata": {
        "trusted": true,
        "_uuid": "46557fda9f2edaaae1cb06cda72df650d6603f1c",
        "collapsed": true
      },
      "cell_type": "code",
      "source": "natural_keys(train_images_dogs_cats[7])",
      "execution_count": null,
      "outputs": []
    },
    {
      "metadata": {
        "trusted": true,
        "_uuid": "5a1ee15e507b62823a06320123d09811ef704491",
        "collapsed": true
      },
      "cell_type": "code",
      "source": "train_images_dogs_cats.sort(key=natural_keys)\ntrain_images_cats = list(filter(lambda path: 'cat' in path, train_images_dogs_cats))\ntrain_images_dogs = list(filter(lambda path: 'dog' in path, train_images_dogs_cats))",
      "execution_count": null,
      "outputs": []
    },
    {
      "metadata": {
        "trusted": true,
        "_uuid": "7f113dd7984305b2214b4feb367eeb38661f1338",
        "collapsed": true
      },
      "cell_type": "code",
      "source": "def prepare_data(list_of_images):\n    x = []\n    y = []\n    for image in list_of_images:\n        x.append(cv2.resize(cv2.imread(image), (img_width, img_height), interpolation=cv2.INTER_CUBIC))\n    for i in list_of_images:\n        if 'cat' in i:\n            y.append(0)\n        elif 'dog' in i:\n            y.append(1)\n    \n    return x, y",
      "execution_count": null,
      "outputs": []
    },
    {
      "metadata": {
        "trusted": true,
        "_uuid": "c032afbb99640d0994a9822d2deb07831ddf22ae",
        "collapsed": true
      },
      "cell_type": "code",
      "source": "X, Y = prepare_data(train_images_dogs_cats)\n",
      "execution_count": null,
      "outputs": []
    },
    {
      "metadata": {
        "trusted": true,
        "_uuid": "7f55bef53cfe22fd363a401233373343615b11ef",
        "collapsed": true
      },
      "cell_type": "code",
      "source": "print(keras.backend.image_data_format())",
      "execution_count": null,
      "outputs": []
    },
    {
      "metadata": {
        "trusted": true,
        "_uuid": "72fcfffbef57ec83cdc62109500a421db94fa98f",
        "collapsed": true
      },
      "cell_type": "code",
      "source": "X_train, X_val, Y_train, Y_val = train_test_split(X, Y, test_size=0.2, random_state=1)",
      "execution_count": null,
      "outputs": []
    },
    {
      "metadata": {
        "trusted": true,
        "_uuid": "2fa0933aaf8d45a39661a2ffc0312925082aa232",
        "collapsed": true
      },
      "cell_type": "code",
      "source": "nb_train_samples = len(X_train)\nnb_validation_samples = len(X_val)\nbatch_size = 16",
      "execution_count": null,
      "outputs": []
    },
    {
      "metadata": {
        "trusted": true,
        "_uuid": "6bffa0dd74f3d56af35e2146583a179e99bad430",
        "collapsed": true
      },
      "cell_type": "code",
      "source": "model = keras.Sequential()",
      "execution_count": null,
      "outputs": []
    },
    {
      "metadata": {
        "trusted": true,
        "_uuid": "4637887c3ec837b25c4a27cd59a2eadfaad55023",
        "collapsed": true
      },
      "cell_type": "code",
      "source": "model.add(layers.Conv2D(32, (3, 3), input_shape=(img_width, img_height, 3)))\nmodel.add(layers.Activation('relu'))\nmodel.add(layers.MaxPooling2D())\n\nmodel.add(layers.Conv2D(32, (3, 3), input_shape=(img_width, img_height, 3)))\nmodel.add(layers.Activation('relu'))\nmodel.add(layers.MaxPooling2D())\n\nmodel.add(layers.Conv2D(32, (3, 3), input_shape=(img_width, img_height, 3)))\nmodel.add(layers.Activation('relu'))\nmodel.add(layers.MaxPooling2D())\n\nmodel.add(layers.Flatten())\nmodel.add(layers.Dense(64))\nmodel.add(layers.Activation('relu'))\nmodel.add(layers.Dropout(0.5))\nmodel.add(layers.Dense(1))\nmodel.add(layers.Activation('sigmoid')) # Softmax?\n\nmodel.compile(loss='binary_crossentropy',\n              optimizer='rmsprop',\n              metrics=['accuracy'])\n\nmodel.summary()",
      "execution_count": null,
      "outputs": []
    },
    {
      "metadata": {
        "trusted": true,
        "_uuid": "6edb0f03fe300bc959a6aff8c6548f27241230de",
        "collapsed": true
      },
      "cell_type": "code",
      "source": "train_datagen = ImageDataGenerator(\n    rescale=1./255,\n    shear_range=0.2,\n    zoom_range=0.2,\n    horizontal_flip=True)\n\nval_datagen = ImageDataGenerator(\n    rescale=1./255,\n    shear_range=0.2,\n    zoom_range=0.2,\n    horizontal_flip=True)",
      "execution_count": null,
      "outputs": []
    },
    {
      "metadata": {
        "trusted": true,
        "_uuid": "9b1bc56fb5f14c45039f460e03fdfc22e27746ed",
        "collapsed": true
      },
      "cell_type": "code",
      "source": "train_generator = train_datagen.flow(np.array(X_train), Y_train, batch_size=batch_size)\nvalidation_generator = val_datagen.flow(np.array(X_val), Y_val, batch_size=batch_size)",
      "execution_count": null,
      "outputs": []
    },
    {
      "metadata": {
        "trusted": true,
        "_uuid": "903f20027774d40bd6473ad01c81256a70f36b1b",
        "scrolled": true,
        "collapsed": true
      },
      "cell_type": "code",
      "source": "history = model.fit_generator(\n    train_generator,\n    steps_per_epoch=nb_train_samples // batch_size,\n    epochs=3,\n    validation_data=validation_generator,\n    validation_steps=nb_validation_samples // batch_size)",
      "execution_count": null,
      "outputs": []
    },
    {
      "metadata": {
        "trusted": true,
        "_uuid": "61fc582683bbd5b45767ef39e1e834f1375eae1a",
        "collapsed": true
      },
      "cell_type": "code",
      "source": "model.save_weights('model_weights.h5')\nmodel.save('model_keras.h5')",
      "execution_count": null,
      "outputs": []
    },
    {
      "metadata": {
        "trusted": true,
        "_uuid": "5d00114b328352a94f812cbc5522c61f717a429b",
        "scrolled": false,
        "collapsed": true
      },
      "cell_type": "code",
      "source": "X_test, Y_test = prepare_data(test_images_dogs_cats)",
      "execution_count": null,
      "outputs": []
    },
    {
      "metadata": {
        "trusted": true,
        "_uuid": "47c6f1231905467b562c091ac0b16e0499798c02",
        "collapsed": true
      },
      "cell_type": "code",
      "source": "test_datagen = ImageDataGenerator(rescale=1./255)",
      "execution_count": null,
      "outputs": []
    },
    {
      "metadata": {
        "trusted": true,
        "_uuid": "b575ffc4e3804001749d523752cee4afcb1cac0c",
        "scrolled": true,
        "collapsed": true
      },
      "cell_type": "code",
      "source": "test_generator = val_datagen.flow(np.array(X_test), batch_size=batch_size)\nprediction_probabilities = model.predict_generator(test_generator, verbose=1)",
      "execution_count": null,
      "outputs": []
    },
    {
      "metadata": {
        "trusted": true,
        "collapsed": true,
        "_uuid": "561068270f80c287eb2171d24ff9e8906aa57109"
      },
      "cell_type": "code",
      "source": "counter = range(1, len(test_images_dogs_cats) + 1)\nsolution = pd.DataFrame({\"id\": counter, \"label\":list(prediction_probabilities)})\ncols = ['label']\n\nfor col in cols:\n    solution[col] = solution[col].map(lambda x: str(x).lstrip('[').rstrip(']')).astype(float)\n    \nsolution.to_csv(\"dogsVScats.csv\", index=False)",
      "execution_count": null,
      "outputs": []
    },
    {
      "metadata": {
        "trusted": true,
        "_uuid": "74bbf4b6858309226c775f50a82c94a28a606508",
        "collapsed": true
      },
      "cell_type": "code",
      "source": "# from keras.models import load_model\n# new_model = load_model('/kaggle/working/model_keras.h5')\n# solution.to_csv(path_or_buf=\"dogsVScats.csv\", index=False)",
      "execution_count": null,
      "outputs": []
    },
    {
      "metadata": {
        "trusted": true,
        "collapsed": true,
        "_uuid": "f160b62673ee29fbefb1ecd002acc660ee1bf033"
      },
      "cell_type": "code",
      "source": "",
      "execution_count": null,
      "outputs": []
    }
  ],
  "metadata": {
    "kernelspec": {
      "display_name": "Python 3",
      "language": "python",
      "name": "python3"
    },
    "language_info": {
      "name": "python",
      "version": "3.6.4",
      "mimetype": "text/x-python",
      "codemirror_mode": {
        "name": "ipython",
        "version": 3
      },
      "pygments_lexer": "ipython3",
      "nbconvert_exporter": "python",
      "file_extension": ".py"
    }
  },
  "nbformat": 4,
  "nbformat_minor": 1
}